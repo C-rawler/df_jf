{
 "cells": [
  {
   "cell_type": "code",
   "execution_count": 1,
   "metadata": {},
   "outputs": [],
   "source": [
    "import pandas as pd \n",
    "import numpy as np\n",
    "from tqdm import *\n",
    "import matplotlib.pyplot as plt\n",
    "from datetime import datetime as dt\n",
    "import pickle\n",
    "%matplotlib inline\n",
    "import os\n",
    "import sys\n",
    "from datetime import *\n",
    "pd.set_option('display.max_columns', 500)\n",
    "import time\n",
    "import math"
   ]
  },
  {
   "cell_type": "code",
   "execution_count": 2,
   "metadata": {},
   "outputs": [],
   "source": [
    "def save_variable(v,filename):\n",
    "    f=open(filename,'wb')\n",
    "    pickle.dump(v,f)\n",
    "    f.close()\n",
    "    return filename\n",
    "\n",
    "def load_variavle(filename):\n",
    "    f=open(filename,'rb')\n",
    "    r=pickle.load(f)\n",
    "    f.close()\n",
    "    return r\n",
    "\n",
    "def metric_fun(pred , label):\n",
    "    return math.exp(-100*abs(label - pred)/max(abs(label),10**(-15)))"
   ]
  },
  {
   "cell_type": "code",
   "execution_count": 3,
   "metadata": {},
   "outputs": [],
   "source": [
    "def get_data(i):\n",
    "    \"\"\"\n",
    "    get_ori_data\n",
    "    \"\"\"\n",
    "    start = time.clock()\n",
    "    data = pd.read_csv('../data/dataset/'+str(i).zfill(3)+'/201807.csv',parse_dates=[0])\n",
    "    res = pd.read_csv('../data/template_submit_result.csv',parse_dates=[0])[['ts','wtid']]\n",
    "    \n",
    "    res = res[res['wtid']==i]\n",
    "    res['flag'] = 1\n",
    "    data = res.merge(data, on=['wtid','ts'],how = 'outer')\n",
    "    data = data.sort_values(['wtid','ts']).reset_index(drop = True)\n",
    "    elapsed = (time.clock() - start)\n",
    "    print(\"Time used:\",elapsed)\n",
    "    \n",
    "    return data "
   ]
  },
  {
   "cell_type": "code",
   "execution_count": 4,
   "metadata": {},
   "outputs": [],
   "source": [
    "def resample_fe(Df,j,l,Type):\n",
    "    try:\n",
    "        res = load_variavle('../data/mode_fe/df_{}_{}_{}_{}.pkl'.format(l,j,Type,1))\n",
    "    except:\n",
    "        df = Df[['ts',j]].copy()\n",
    "        var = df[j].resample('1T').mean().reset_index()\n",
    "        del df[j]\n",
    "        minute = (df.ts.dt.minute.values/1).astype(int)*1\n",
    "        time_list = list()\n",
    "        for g,h,k in zip(df.ts.dt.day,df.ts.dt.hour,minute):\n",
    "            time_list.append('2018-07-{} {}:{}:00'.format(g,h,k))\n",
    "        df['time'] = [pd.Timestamp(i) for i in time_list]\n",
    "        var.columns = ['time',j]\n",
    "        df = df.merge(var,on='time',how = 'left').drop('time',axis=1)\n",
    "        res = df[j]\n",
    "        save_variable(res,'../data/mode_fe/df_{}_{}_{}_{}.pkl'.format(l,j,Type,1))\n",
    "    return res\n",
    "\n",
    "def resample_fe_median(Df,j,l,Type):\n",
    "    try:\n",
    "        res = load_variavle('../data/mode_fe/df_{}_{}_{}.pkl'.format(l,j,Type))\n",
    "    except:\n",
    "        df = Df[['ts',j]].copy()\n",
    "        var = df.resample('1T').median().reset_index()\n",
    "        del df[j]\n",
    "        minute = (df.ts.dt.minute.values/1).astype(int)*1\n",
    "        time_list = list()\n",
    "        for g,h,k in zip(df.ts.dt.day,df.ts.dt.hour,minute):\n",
    "            time_list.append('2018-07-{} {}:{}:00'.format(g,h,k))\n",
    "        df['time'] = [pd.Timestamp(i) for i in time_list]\n",
    "        var.columns = ['time',j]\n",
    "        df = df.merge(var,on='time',how = 'left').drop('time',axis=1)\n",
    "        res = df[j]\n",
    "        save_variable(res,'../data/mode_fe/df_{}_{}_{}.pkl'.format(l,j,Type))\n",
    "    return res\n",
    "\n",
    "\n",
    "def resample_fe_mode(Df,j,l,Type):\n",
    "    try:\n",
    "        res = load_variavle('../data/mode_fe/df_{}_{}_{}.pkl'.format(l,j,Type))\n",
    "    except:\n",
    "        df = Df[['ts',j]].copy()\n",
    "        var = df[j].resample('2T').apply(lambda x:np.min(pd.Series.mode(x))).reset_index()\n",
    "        del df[j]\n",
    "        minute = (df.ts.dt.minute.values/2).astype(int)*2\n",
    "        time_list = list()\n",
    "        for g,h,k in zip(df.ts.dt.day,df.ts.dt.hour,minute):\n",
    "            time_list.append('2018-07-{} {}:{}:00'.format(g,h,k))\n",
    "        df['time'] = [pd.Timestamp(i) for i in time_list]\n",
    "        var.columns = ['time',j]\n",
    "        df = df.merge(var,on='time',how = 'left').drop('time',axis=1)\n",
    "        res = df[j]\n",
    "        save_variable(res,'../data/mode_fe/df_{}_{}_{}.pkl'.format(l,j,Type))\n",
    "    return res\n",
    "\n",
    "def resample_fe_mode_mean(Df,j,l,Type):\n",
    "    try:\n",
    "        res = load_variavle('../data/mode_fe/df_{}_{}_{}.pkl'.format(l,j,Type))\n",
    "    except:\n",
    "        df = Df[['ts',j]].copy()\n",
    "        var = df[j].resample('2T').apply(lambda x:np.nanmean(pd.Series.mode(x))).reset_index()\n",
    "        del df[j]\n",
    "        minute = (df.ts.dt.minute.values/2).astype(int)*2\n",
    "        time_list = list()\n",
    "        for g,h,k in zip(df.ts.dt.day,df.ts.dt.hour,minute):\n",
    "            time_list.append('2018-07-{} {}:{}:00'.format(g,h,k))\n",
    "        df['time'] = [pd.Timestamp(i) for i in time_list]\n",
    "        var.columns = ['time',j]\n",
    "        df = df.merge(var,on='time',how = 'left').drop('time',axis=1)\n",
    "        res = df[j]\n",
    "        save_variable(res,'../data/mode_fe/df_{}_{}_{}.pkl'.format(l,j,Type))\n",
    "    return res\n",
    "\n",
    "def resample_fe_mode_roll(Df,j,l,Type,w,mw):\n",
    "    try:\n",
    "        res = load_variavle('../data/mode_fe/df_{}_{}_{}_{}_{}.pkl'.format(l,j,Type,w,mw))\n",
    "    except:\n",
    "        df = Df[[j]].copy()\n",
    "        var = df[j].rolling(window = w , min_periods = mw,center = True).apply(lambda x:np.nanmin(pd.Series.mode(x)),raw=False).reset_index()\n",
    "        del df[j]\n",
    "        df_res = df.merge(var,on = 'ts',how = 'left')#.drop('ts',axis=1)\n",
    "        res = df_res[j]\n",
    "        save_variable(res,'../data/mode_fe/df_{}_{}_{}_{}_{}.pkl'.format(l,j,Type,w,mw))\n",
    "    return res\n",
    "\n",
    "def resample_fe_mode_mean_roll(Df,j,l,Type,w,mw):\n",
    "    try:\n",
    "        res = load_variavle('../data/mode_fe/df_{}_{}_{}_{}_{}.pkl'.format(l,j,Type,w,mw))\n",
    "    except:\n",
    "        df = Df[[j]].copy()\n",
    "        var = df[j].rolling(window = w , min_periods = mw,center = True).apply(lambda x:np.nanmean(pd.Series.mode(x)),raw=False).reset_index()\n",
    "        del df[j]\n",
    "        df_res = df.merge(var,on = 'ts',how = 'left')#.drop('ts',axis=1)\n",
    "        res = df_res[j]\n",
    "        save_variable(res,'../data/mode_fe/df_{}_{}_{}_{}_{}.pkl'.format(l,j,Type,w,mw))\n",
    "    return res\n",
    "\n",
    "def resample_fe_mode_111(Df,j,l,Type):\n",
    "    try:\n",
    "        res = load_variavle('../data/mode_fe/df_{}_{}_{}_{}.pkl'.format(l,j,Type,111))\n",
    "    except:\n",
    "        df = Df[['ts',j]].copy()\n",
    "        var = df[j].resample('1T').apply(lambda x:np.min(pd.Series.mode(x))).reset_index()\n",
    "        del df[j]\n",
    "        minute = (df.ts.dt.minute.values/1).astype(int)*1\n",
    "        time_list = list()\n",
    "        for g,h,k in zip(df.ts.dt.day,df.ts.dt.hour,minute):\n",
    "            time_list.append('2018-07-{} {}:{}:00'.format(g,h,k))\n",
    "        df['time'] = [pd.Timestamp(i) for i in time_list]\n",
    "        var.columns = ['time',j]\n",
    "        df = df.merge(var,on='time',how = 'left').drop('time',axis=1)\n",
    "        res = df[j]\n",
    "        save_variable(res,'../data/mode_fe/df_{}_{}_{}_{}.pkl'.format(l,j,Type,111))\n",
    "    return res\n",
    "\n",
    "def resample_fe_mode_1(Df,j,l,Type):\n",
    "    try:\n",
    "        res = load_variavle('../data/mode_fe/df_{}_{}_{}_{}.pkl'.format(l,j,Type,30))\n",
    "    except:\n",
    "        df = Df[['ts',j]].copy()\n",
    "        var = df[j].resample('30S').apply(lambda x:np.min(pd.Series.mode(x))).reset_index()\n",
    "        del df[j]\n",
    "        second = (df.ts.dt.second.values/30).astype(int)*30\n",
    "        time_list = list()\n",
    "        for g,h,k,q in zip(df.ts.dt.day,df.ts.dt.hour,df.ts.dt.minute,second):\n",
    "            time_list.append('2018-07-{} {}:{}:{}'.format(g,h,k,q))\n",
    "        df['time'] = [pd.Timestamp(i) for i in time_list]\n",
    "        var.columns = ['time',j]\n",
    "        df = df.merge(var,on='time',how = 'left')#.drop('time',axis=1)\n",
    "        res = df[j]\n",
    "        save_variable(res,'../data/mode_fe/df_{}_{}_{}_{}.pkl'.format(l,j,Type,30))\n",
    "    return res"
   ]
  },
  {
   "cell_type": "code",
   "execution_count": 5,
   "metadata": {},
   "outputs": [],
   "source": [
    "# file_list = dict()\n",
    "# for j in range(1,34):\n",
    "#     data = get_data(j)\n",
    "#     fe = [ i for i in data.columns if 'var' in i ]\n",
    "#     zero_fe = list()\n",
    "#     print(j,len(data))\n",
    "#     for i in fe:\n",
    "#         if i not in cat_fe + bool_fe :\n",
    "#             try:\n",
    "#                 if (data[i].value_counts()[data[i].mode()[0]]>20000)&(data[i].value_counts()[data[i].mode()[0]]<=60000):\n",
    "# #                 if (data[i].value_counts()[data[i].mode()[0]]>len(data)*0.05)&(data[i].value_counts()[data[i].mode()[0]]<=len(data)*0.15):\n",
    "#                     print(i,data[i].mode()[0],data[i].value_counts()[data[i].mode()[0]])\n",
    "#                     zero_fe.append(i)\n",
    "#             except:\n",
    "#                 pass\n",
    "#     file_list[j] = zero_fe"
   ]
  },
  {
   "cell_type": "code",
   "execution_count": 6,
   "metadata": {},
   "outputs": [],
   "source": [
    "# save_variable(file_list,'../data/dict_cate_mode_set_2W.pkl')"
   ]
  },
  {
   "cell_type": "code",
   "execution_count": 8,
   "metadata": {},
   "outputs": [
    {
     "name": "stderr",
     "output_type": "stream",
     "text": [
      "\r",
      "  0%|          | 0/33 [00:00<?, ?it/s]"
     ]
    },
    {
     "name": "stdout",
     "output_type": "stream",
     "text": [
      "Time used: 3.252268\n",
      "==========_1_==========\n",
      "{'var066', 'var047', 'var016', 'var020', 'var053'}\n",
      "==========_set_zero_fe_==========\n",
      "['var008', 'var010', 'var013', 'var025', 'var026', 'var050']\n",
      "==========_set_zero_fe_2_==========\n",
      "['var032', 'var064']\n",
      "==========_set_zero_fe_3_==========\n",
      "['var009', 'var058']\n",
      "==========_set_zero_fe_4_==========\n",
      "['var023', 'var041', 'var049', 'var063']\n",
      "==========_set_zero_fe_5_==========\n",
      "['var017', 'var039', 'var048', 'var054', 'var060']\n",
      "==========_set_zero_fe_6_==========\n",
      "['var044']\n",
      "==========_set_zero_fe_7_==========\n",
      "['var015', 'var019', 'var043', 'var059', 'var065', 'var068']\n"
     ]
    },
    {
     "name": "stderr",
     "output_type": "stream",
     "text": [
      "\r",
      "  3%|▎         | 1/33 [00:06<03:23,  6.36s/it]"
     ]
    },
    {
     "name": "stdout",
     "output_type": "stream",
     "text": [
      "Time used: 3.190348\n",
      "==========_1_==========\n",
      "{'var066', 'var047', 'var016', 'var020', 'var053'}\n",
      "==========_set_zero_fe_==========\n",
      "['var008', 'var013', 'var025', 'var026', 'var032']\n",
      "==========_set_zero_fe_2_==========\n",
      "['var023', 'var044', 'var050']\n",
      "==========_set_zero_fe_3_==========\n",
      "['var048']\n",
      "==========_set_zero_fe_4_==========\n",
      "['var009', 'var010', 'var017', 'var041', 'var049', 'var058', 'var064']\n",
      "==========_set_zero_fe_5_==========\n",
      "['var039', 'var054', 'var056', 'var060', 'var063']\n",
      "==========_set_zero_fe_6_==========\n",
      "[]\n",
      "==========_set_zero_fe_7_==========\n",
      "['var019', 'var043', 'var059', 'var065', 'var068']\n"
     ]
    },
    {
     "name": "stderr",
     "output_type": "stream",
     "text": [
      "\r",
      "  6%|▌         | 2/33 [00:12<03:15,  6.31s/it]"
     ]
    },
    {
     "name": "stdout",
     "output_type": "stream",
     "text": [
      "Time used: 3.2724709999999995\n",
      "==========_1_==========\n",
      "{'var066', 'var047', 'var016', 'var020', 'var053'}\n",
      "==========_set_zero_fe_==========\n",
      "['var008', 'var025', 'var026', 'var048']\n",
      "==========_set_zero_fe_2_==========\n",
      "['var032', 'var050']\n",
      "==========_set_zero_fe_3_==========\n",
      "['var010', 'var013', 'var039', 'var063']\n",
      "==========_set_zero_fe_4_==========\n",
      "['var044', 'var049', 'var058']\n",
      "==========_set_zero_fe_5_==========\n",
      "['var017', 'var041', 'var054', 'var060']\n",
      "==========_set_zero_fe_6_==========\n",
      "['var009', 'var023', 'var064']\n",
      "==========_set_zero_fe_7_==========\n",
      "['var019', 'var043', 'var059', 'var065', 'var068']\n"
     ]
    },
    {
     "name": "stderr",
     "output_type": "stream",
     "text": [
      "\r",
      "  9%|▉         | 3/33 [00:18<03:08,  6.28s/it]"
     ]
    },
    {
     "name": "stdout",
     "output_type": "stream",
     "text": [
      "Time used: 3.2305010000000003\n",
      "==========_1_==========\n",
      "{'var053', 'var047', 'var016', 'var020', 'var066'}\n",
      "==========_set_zero_fe_==========\n",
      "['var008', 'var013', 'var025', 'var026', 'var032']\n",
      "==========_set_zero_fe_2_==========\n",
      "['var023', 'var050']\n",
      "==========_set_zero_fe_3_==========\n",
      "['var058', 'var063']\n",
      "==========_set_zero_fe_4_==========\n",
      "['var010', 'var039', 'var041', 'var044', 'var049']\n",
      "==========_set_zero_fe_5_==========\n",
      "['var054', 'var060', 'var064']\n",
      "==========_set_zero_fe_6_==========\n",
      "['var009', 'var048']\n",
      "==========_set_zero_fe_7_==========\n",
      "['var017', 'var019', 'var043', 'var059', 'var065']\n"
     ]
    },
    {
     "name": "stderr",
     "output_type": "stream",
     "text": [
      "\r",
      " 12%|█▏        | 4/33 [00:25<03:02,  6.29s/it]"
     ]
    },
    {
     "name": "stdout",
     "output_type": "stream",
     "text": [
      "Time used: 3.363993999999998\n",
      "==========_1_==========\n",
      "{'var066', 'var047', 'var016', 'var020', 'var053'}\n",
      "==========_set_zero_fe_==========\n",
      "['var008', 'var013', 'var025', 'var026', 'var032', 'var044']\n",
      "==========_set_zero_fe_2_==========\n",
      "['var049', 'var050']\n",
      "==========_set_zero_fe_3_==========\n",
      "['var039', 'var058']\n",
      "==========_set_zero_fe_4_==========\n",
      "['var017', 'var041']\n",
      "==========_set_zero_fe_5_==========\n",
      "['var054', 'var060', 'var063']\n",
      "==========_set_zero_fe_6_==========\n",
      "['var009', 'var010', 'var023', 'var048', 'var064']\n",
      "==========_set_zero_fe_7_==========\n",
      "['var015', 'var019', 'var043', 'var059', 'var065']\n"
     ]
    },
    {
     "name": "stderr",
     "output_type": "stream",
     "text": [
      "\r",
      " 15%|█▌        | 5/33 [00:31<02:57,  6.33s/it]"
     ]
    },
    {
     "name": "stdout",
     "output_type": "stream",
     "text": [
      "Time used: 3.401213999999996\n",
      "==========_1_==========\n",
      "{'var053', 'var020', 'var016', 'var066', 'var047'}\n",
      "==========_set_zero_fe_==========\n",
      "['var008', 'var025', 'var026', 'var032']\n",
      "==========_set_zero_fe_2_==========\n",
      "['var010', 'var048', 'var050']\n",
      "==========_set_zero_fe_3_==========\n",
      "['var009', 'var013', 'var023', 'var058', 'var063']\n",
      "==========_set_zero_fe_4_==========\n",
      "['var039', 'var041']\n",
      "==========_set_zero_fe_5_==========\n",
      "['var044', 'var049', 'var054', 'var060', 'var064']\n",
      "==========_set_zero_fe_6_==========\n",
      "['var017']\n",
      "==========_set_zero_fe_7_==========\n",
      "['var019', 'var043', 'var059', 'var065']\n"
     ]
    },
    {
     "name": "stderr",
     "output_type": "stream",
     "text": [
      "\r",
      " 18%|█▊        | 6/33 [00:38<02:54,  6.45s/it]"
     ]
    },
    {
     "name": "stdout",
     "output_type": "stream",
     "text": [
      "Time used: 3.249302\n",
      "==========_1_==========\n",
      "{'var066', 'var047', 'var016', 'var020', 'var053'}\n",
      "==========_set_zero_fe_==========\n",
      "['var008', 'var013', 'var025', 'var026', 'var032', 'var048']\n",
      "==========_set_zero_fe_2_==========\n",
      "['var009', 'var017', 'var044', 'var049', 'var050', 'var058']\n",
      "==========_set_zero_fe_3_==========\n",
      "[]\n",
      "==========_set_zero_fe_4_==========\n",
      "['var063']\n",
      "==========_set_zero_fe_5_==========\n",
      "['var010', 'var041', 'var054', 'var060']\n",
      "==========_set_zero_fe_6_==========\n",
      "['var023', 'var039', 'var064']\n",
      "==========_set_zero_fe_7_==========\n",
      "['var019', 'var043', 'var059', 'var065', 'var068']\n"
     ]
    },
    {
     "name": "stderr",
     "output_type": "stream",
     "text": [
      "\r",
      " 21%|██        | 7/33 [00:44<02:46,  6.41s/it]"
     ]
    },
    {
     "name": "stdout",
     "output_type": "stream",
     "text": [
      "Time used: 3.160677999999997\n",
      "==========_1_==========\n",
      "{'var066', 'var047', 'var016', 'var020', 'var053'}\n",
      "==========_set_zero_fe_==========\n",
      "['var008', 'var013', 'var025', 'var026', 'var032']\n",
      "==========_set_zero_fe_2_==========\n",
      "['var010', 'var017', 'var044', 'var050']\n",
      "==========_set_zero_fe_3_==========\n",
      "['var009', 'var063']\n",
      "==========_set_zero_fe_4_==========\n",
      "['var039', 'var041', 'var049', 'var058']\n",
      "==========_set_zero_fe_5_==========\n",
      "['var023', 'var054', 'var060']\n",
      "==========_set_zero_fe_6_==========\n",
      "['var048', 'var064']\n",
      "==========_set_zero_fe_7_==========\n",
      "['var019', 'var043', 'var059', 'var065']\n"
     ]
    },
    {
     "name": "stderr",
     "output_type": "stream",
     "text": [
      "\r",
      " 24%|██▍       | 8/33 [00:50<02:39,  6.39s/it]"
     ]
    },
    {
     "name": "stdout",
     "output_type": "stream",
     "text": [
      "Time used: 3.3996699999999933\n",
      "==========_1_==========\n",
      "{'var066', 'var047', 'var016', 'var020', 'var053'}\n",
      "==========_set_zero_fe_==========\n",
      "['var008', 'var013', 'var025', 'var026', 'var032', 'var050']\n",
      "==========_set_zero_fe_2_==========\n",
      "['var044']\n",
      "==========_set_zero_fe_3_==========\n",
      "['var009', 'var048', 'var049', 'var058', 'var063']\n",
      "==========_set_zero_fe_4_==========\n",
      "['var041']\n",
      "==========_set_zero_fe_5_==========\n",
      "['var023', 'var039', 'var054', 'var060', 'var064']\n",
      "==========_set_zero_fe_6_==========\n",
      "['var010', 'var017']\n",
      "==========_set_zero_fe_7_==========\n",
      "['var019', 'var043', 'var056', 'var059', 'var065', 'var068']\n"
     ]
    },
    {
     "name": "stderr",
     "output_type": "stream",
     "text": [
      "\r",
      " 27%|██▋       | 9/33 [00:57<02:35,  6.47s/it]"
     ]
    },
    {
     "name": "stdout",
     "output_type": "stream",
     "text": [
      "Time used: 3.5035740000000004\n",
      "==========_1_==========\n",
      "{'var066', 'var047', 'var016', 'var020', 'var053'}\n",
      "==========_set_zero_fe_==========\n",
      "['var008', 'var013', 'var025', 'var026', 'var032', 'var050']\n",
      "==========_set_zero_fe_2_==========\n",
      "[]\n",
      "==========_set_zero_fe_3_==========\n",
      "['var010', 'var023', 'var049', 'var058']\n",
      "==========_set_zero_fe_4_==========\n",
      "['var009', 'var017', 'var041', 'var044']\n",
      "==========_set_zero_fe_5_==========\n",
      "['var039', 'var048', 'var054', 'var060', 'var063']\n",
      "==========_set_zero_fe_6_==========\n",
      "['var064']\n",
      "==========_set_zero_fe_7_==========\n",
      "['var019', 'var043', 'var059', 'var065', 'var068']\n"
     ]
    },
    {
     "name": "stderr",
     "output_type": "stream",
     "text": [
      "\r",
      " 30%|███       | 10/33 [01:04<02:31,  6.59s/it]"
     ]
    },
    {
     "name": "stdout",
     "output_type": "stream",
     "text": [
      "Time used: 3.343114\n",
      "==========_1_==========\n",
      "{'var066', 'var047', 'var016', 'var020', 'var053'}\n",
      "==========_set_zero_fe_==========\n",
      "['var008', 'var013', 'var025', 'var026', 'var032']\n",
      "==========_set_zero_fe_2_==========\n",
      "['var048', 'var050']\n",
      "==========_set_zero_fe_3_==========\n",
      "['var064']\n",
      "==========_set_zero_fe_4_==========\n",
      "['var023', 'var041', 'var049', 'var058']\n",
      "==========_set_zero_fe_5_==========\n",
      "['var009', 'var010', 'var017', 'var054', 'var060', 'var063']\n",
      "==========_set_zero_fe_6_==========\n",
      "[]\n",
      "==========_set_zero_fe_7_==========\n",
      "['var019', 'var039', 'var043', 'var044', 'var056', 'var059', 'var065']\n"
     ]
    },
    {
     "name": "stderr",
     "output_type": "stream",
     "text": [
      "\r",
      " 33%|███▎      | 11/33 [01:11<02:29,  6.79s/it]"
     ]
    },
    {
     "name": "stdout",
     "output_type": "stream",
     "text": [
      "Time used: 3.722712999999999\n",
      "==========_1_==========\n",
      "{'var066', 'var047', 'var016', 'var020', 'var053'}\n",
      "==========_set_zero_fe_==========\n",
      "['var008', 'var025', 'var026', 'var032', 'var050']\n",
      "==========_set_zero_fe_2_==========\n",
      "['var013', 'var017', 'var039', 'var058']\n",
      "==========_set_zero_fe_3_==========\n",
      "['var048', 'var049']\n",
      "==========_set_zero_fe_4_==========\n",
      "['var023', 'var041', 'var044']\n",
      "==========_set_zero_fe_5_==========\n",
      "['var009', 'var010', 'var054', 'var060']\n",
      "==========_set_zero_fe_6_==========\n",
      "['var063', 'var064']\n",
      "==========_set_zero_fe_7_==========\n",
      "['var019', 'var043', 'var059', 'var065']\n"
     ]
    },
    {
     "name": "stderr",
     "output_type": "stream",
     "text": [
      "\r",
      " 36%|███▋      | 12/33 [01:19<02:28,  7.09s/it]"
     ]
    },
    {
     "name": "stdout",
     "output_type": "stream",
     "text": [
      "Time used: 3.736704000000003\n",
      "==========_1_==========\n",
      "{'var066', 'var047', 'var016', 'var020', 'var053'}\n",
      "==========_set_zero_fe_==========\n",
      "['var008', 'var025', 'var026', 'var032', 'var058']\n",
      "==========_set_zero_fe_2_==========\n",
      "['var013', 'var039', 'var050']\n",
      "==========_set_zero_fe_3_==========\n",
      "['var023', 'var044']\n",
      "==========_set_zero_fe_4_==========\n",
      "['var009', 'var010', 'var041', 'var048', 'var049']\n",
      "==========_set_zero_fe_5_==========\n",
      "['var017', 'var060', 'var064']\n",
      "==========_set_zero_fe_6_==========\n",
      "['var054', 'var063']\n",
      "==========_set_zero_fe_7_==========\n",
      "['var019', 'var043', 'var059', 'var065']\n"
     ]
    },
    {
     "name": "stderr",
     "output_type": "stream",
     "text": [
      "\r",
      " 39%|███▉      | 13/33 [01:27<02:27,  7.38s/it]"
     ]
    },
    {
     "name": "stdout",
     "output_type": "stream",
     "text": [
      "Time used: 4.2658229999999975\n",
      "==========_1_==========\n",
      "{'var066', 'var047', 'var016', 'var020', 'var053'}\n",
      "==========_set_zero_fe_==========\n",
      "['var008', 'var013', 'var025', 'var026', 'var032', 'var050']\n",
      "==========_set_zero_fe_2_==========\n",
      "['var044', 'var049']\n",
      "==========_set_zero_fe_3_==========\n",
      "['var010', 'var039', 'var048', 'var058']\n",
      "==========_set_zero_fe_4_==========\n",
      "['var009', 'var041']\n",
      "==========_set_zero_fe_5_==========\n",
      "['var017', 'var023', 'var060', 'var064']\n",
      "==========_set_zero_fe_6_==========\n",
      "['var054']\n",
      "==========_set_zero_fe_7_==========\n",
      "['var019', 'var034', 'var043', 'var059', 'var063', 'var065']\n"
     ]
    },
    {
     "name": "stderr",
     "output_type": "stream",
     "text": [
      "\r",
      " 42%|████▏     | 14/33 [01:35<02:25,  7.67s/it]"
     ]
    },
    {
     "name": "stdout",
     "output_type": "stream",
     "text": [
      "Time used: 4.405878999999999\n",
      "==========_1_==========\n",
      "{'var066', 'var047', 'var016', 'var020', 'var053'}\n",
      "==========_set_zero_fe_==========\n",
      "['var008', 'var013', 'var025', 'var026', 'var032', 'var044', 'var050']\n",
      "==========_set_zero_fe_2_==========\n",
      "['var009', 'var023', 'var039', 'var048', 'var049']\n",
      "==========_set_zero_fe_3_==========\n",
      "['var010', 'var058']\n",
      "==========_set_zero_fe_4_==========\n",
      "['var041', 'var063', 'var064']\n",
      "==========_set_zero_fe_5_==========\n",
      "['var017', 'var054', 'var060']\n",
      "==========_set_zero_fe_6_==========\n",
      "[]\n",
      "==========_set_zero_fe_7_==========\n",
      "['var019', 'var043', 'var059', 'var065']\n"
     ]
    },
    {
     "name": "stderr",
     "output_type": "stream",
     "text": [
      "\r",
      " 45%|████▌     | 15/33 [01:44<02:23,  7.97s/it]"
     ]
    },
    {
     "name": "stdout",
     "output_type": "stream",
     "text": [
      "Time used: 3.8439380000000085\n",
      "==========_1_==========\n",
      "{'var053', 'var047', 'var016', 'var020', 'var066'}\n",
      "==========_set_zero_fe_==========\n",
      "['var008', 'var025', 'var026', 'var050']\n",
      "==========_set_zero_fe_2_==========\n",
      "['var010', 'var032', 'var044', 'var058']\n",
      "==========_set_zero_fe_3_==========\n",
      "['var013', 'var017']\n",
      "==========_set_zero_fe_4_==========\n",
      "['var039', 'var041', 'var049', 'var064']\n",
      "==========_set_zero_fe_5_==========\n",
      "['var009', 'var054', 'var060', 'var063']\n",
      "==========_set_zero_fe_6_==========\n",
      "['var048']\n",
      "==========_set_zero_fe_7_==========\n",
      "['var019', 'var023', 'var043', 'var056', 'var059', 'var065']\n"
     ]
    },
    {
     "name": "stderr",
     "output_type": "stream",
     "text": [
      "\r",
      " 48%|████▊     | 16/33 [01:52<02:15,  8.00s/it]"
     ]
    },
    {
     "name": "stdout",
     "output_type": "stream",
     "text": [
      "Time used: 4.405118000000002\n",
      "==========_1_==========\n",
      "{'var066', 'var047', 'var016', 'var020', 'var053'}\n",
      "==========_set_zero_fe_==========\n",
      "['var008', 'var013', 'var025', 'var026', 'var032']\n",
      "==========_set_zero_fe_2_==========\n",
      "['var050', 'var063']\n",
      "==========_set_zero_fe_3_==========\n",
      "['var041']\n",
      "==========_set_zero_fe_4_==========\n",
      "['var009', 'var010', 'var049', 'var058']\n",
      "==========_set_zero_fe_5_==========\n",
      "['var023', 'var039', 'var054', 'var060', 'var064']\n",
      "==========_set_zero_fe_6_==========\n",
      "['var017', 'var044', 'var048']\n",
      "==========_set_zero_fe_7_==========\n",
      "['var019', 'var043', 'var059', 'var065', 'var068']\n"
     ]
    },
    {
     "name": "stderr",
     "output_type": "stream",
     "text": [
      "\r",
      " 52%|█████▏    | 17/33 [02:01<02:10,  8.15s/it]"
     ]
    },
    {
     "name": "stdout",
     "output_type": "stream",
     "text": [
      "Time used: 3.77814699999999\n",
      "==========_1_==========\n",
      "{'var053', 'var047', 'var016', 'var020', 'var066'}\n",
      "==========_set_zero_fe_==========\n",
      "['var008', 'var013', 'var025', 'var026', 'var032']\n",
      "==========_set_zero_fe_2_==========\n",
      "['var023', 'var039', 'var044', 'var049', 'var050', 'var063']\n",
      "==========_set_zero_fe_3_==========\n",
      "['var010', 'var017', 'var048', 'var058', 'var064']\n",
      "==========_set_zero_fe_4_==========\n",
      "['var041']\n",
      "==========_set_zero_fe_5_==========\n",
      "['var054', 'var060']\n",
      "==========_set_zero_fe_6_==========\n",
      "['var009']\n",
      "==========_set_zero_fe_7_==========\n",
      "['var019', 'var043', 'var056', 'var059', 'var065']\n"
     ]
    },
    {
     "name": "stderr",
     "output_type": "stream",
     "text": [
      "\r",
      " 55%|█████▍    | 18/33 [02:09<02:04,  8.33s/it]"
     ]
    },
    {
     "name": "stdout",
     "output_type": "stream",
     "text": [
      "Time used: 3.6430950000000166\n",
      "==========_1_==========\n",
      "{'var053', 'var047', 'var016', 'var020', 'var066'}\n",
      "==========_set_zero_fe_==========\n",
      "['var008', 'var013', 'var025', 'var026', 'var032', 'var048']\n",
      "==========_set_zero_fe_2_==========\n",
      "['var023', 'var044', 'var050', 'var064']\n",
      "==========_set_zero_fe_3_==========\n",
      "['var009', 'var058']\n",
      "==========_set_zero_fe_4_==========\n",
      "['var039', 'var049', 'var063']\n",
      "==========_set_zero_fe_5_==========\n",
      "['var010', 'var041', 'var054', 'var060']\n",
      "==========_set_zero_fe_6_==========\n",
      "['var017']\n",
      "==========_set_zero_fe_7_==========\n",
      "['var019', 'var043', 'var059', 'var065']\n"
     ]
    },
    {
     "name": "stderr",
     "output_type": "stream",
     "text": [
      "\r",
      " 58%|█████▊    | 19/33 [02:18<01:55,  8.28s/it]"
     ]
    },
    {
     "name": "stdout",
     "output_type": "stream",
     "text": [
      "Time used: 4.6478469999999845\n",
      "==========_1_==========\n",
      "{'var066', 'var047', 'var016', 'var020', 'var053'}\n",
      "==========_set_zero_fe_==========\n",
      "['var008', 'var010', 'var013', 'var025', 'var026']\n",
      "==========_set_zero_fe_2_==========\n",
      "['var023', 'var032', 'var050']\n",
      "==========_set_zero_fe_3_==========\n",
      "['var009', 'var048', 'var058', 'var064']\n",
      "==========_set_zero_fe_4_==========\n",
      "['var017', 'var044', 'var049']\n",
      "==========_set_zero_fe_5_==========\n",
      "['var039', 'var041', 'var054', 'var060', 'var063']\n",
      "==========_set_zero_fe_6_==========\n",
      "[]\n",
      "==========_set_zero_fe_7_==========\n",
      "['var015', 'var019', 'var034', 'var043', 'var059', 'var065', 'var068']\n"
     ]
    },
    {
     "name": "stderr",
     "output_type": "stream",
     "text": [
      "\r",
      " 61%|██████    | 20/33 [02:27<01:51,  8.54s/it]"
     ]
    },
    {
     "name": "stdout",
     "output_type": "stream",
     "text": [
      "Time used: 4.013427999999976\n",
      "==========_1_==========\n",
      "{'var066', 'var047', 'var016', 'var020', 'var053'}\n",
      "==========_set_zero_fe_==========\n",
      "['var008', 'var025', 'var026', 'var032']\n",
      "==========_set_zero_fe_2_==========\n",
      "['var013', 'var017', 'var048', 'var050']\n",
      "==========_set_zero_fe_3_==========\n",
      "['var049', 'var063']\n",
      "==========_set_zero_fe_4_==========\n",
      "['var009', 'var023', 'var041', 'var058', 'var064']\n",
      "==========_set_zero_fe_5_==========\n",
      "['var044', 'var054', 'var060']\n",
      "==========_set_zero_fe_6_==========\n",
      "['var039']\n",
      "==========_set_zero_fe_7_==========\n",
      "['var010', 'var015', 'var019', 'var043', 'var059', 'var065']\n"
     ]
    },
    {
     "name": "stderr",
     "output_type": "stream",
     "text": [
      "\r",
      " 64%|██████▎   | 21/33 [02:36<01:44,  8.70s/it]"
     ]
    },
    {
     "name": "stdout",
     "output_type": "stream",
     "text": [
      "Time used: 3.7889029999999764\n",
      "==========_1_==========\n",
      "{'var066', 'var047', 'var016', 'var020', 'var053'}\n",
      "==========_set_zero_fe_==========\n",
      "['var008', 'var013', 'var025', 'var026', 'var032']\n",
      "==========_set_zero_fe_2_==========\n",
      "['var050']\n",
      "==========_set_zero_fe_3_==========\n",
      "['var009', 'var010', 'var039', 'var048', 'var058']\n",
      "==========_set_zero_fe_4_==========\n",
      "['var049', 'var064']\n",
      "==========_set_zero_fe_5_==========\n",
      "['var017', 'var041', 'var044', 'var060']\n",
      "==========_set_zero_fe_6_==========\n",
      "['var023', 'var054', 'var063']\n",
      "==========_set_zero_fe_7_==========\n",
      "['var019', 'var043', 'var059', 'var065']\n"
     ]
    },
    {
     "name": "stderr",
     "output_type": "stream",
     "text": [
      "\r",
      " 67%|██████▋   | 22/33 [02:45<01:37,  8.89s/it]"
     ]
    },
    {
     "name": "stdout",
     "output_type": "stream",
     "text": [
      "Time used: 3.88239200000001\n",
      "==========_1_==========\n",
      "{'var066', 'var047', 'var016', 'var020', 'var053'}\n",
      "==========_set_zero_fe_==========\n",
      "['var008', 'var013', 'var025', 'var026', 'var032']\n",
      "==========_set_zero_fe_2_==========\n",
      "['var041', 'var049', 'var050']\n",
      "==========_set_zero_fe_3_==========\n",
      "['var039', 'var044', 'var048', 'var058']\n",
      "==========_set_zero_fe_4_==========\n",
      "['var063']\n",
      "==========_set_zero_fe_5_==========\n",
      "['var009', 'var010', 'var017', 'var023', 'var060']\n",
      "==========_set_zero_fe_6_==========\n",
      "['var054', 'var064']\n",
      "==========_set_zero_fe_7_==========\n",
      "['var019', 'var043', 'var059', 'var065', 'var068']\n"
     ]
    },
    {
     "name": "stderr",
     "output_type": "stream",
     "text": [
      "\r",
      " 70%|██████▉   | 23/33 [02:54<01:28,  8.82s/it]"
     ]
    },
    {
     "name": "stdout",
     "output_type": "stream",
     "text": [
      "Time used: 4.628190000000018\n",
      "==========_1_==========\n",
      "{'var066', 'var047', 'var016', 'var020', 'var053'}\n",
      "==========_set_zero_fe_==========\n",
      "['var008', 'var013', 'var025', 'var026']\n",
      "==========_set_zero_fe_2_==========\n",
      "['var009', 'var032', 'var044', 'var048', 'var050']\n",
      "==========_set_zero_fe_3_==========\n",
      "['var023', 'var064']\n",
      "==========_set_zero_fe_4_==========\n",
      "['var017', 'var039', 'var041', 'var049', 'var058']\n",
      "==========_set_zero_fe_5_==========\n",
      "['var010', 'var054', 'var060']\n",
      "==========_set_zero_fe_6_==========\n",
      "['var063']\n",
      "==========_set_zero_fe_7_==========\n",
      "['var015', 'var019', 'var043', 'var059', 'var065']\n"
     ]
    },
    {
     "name": "stderr",
     "output_type": "stream",
     "text": [
      "\r",
      " 73%|███████▎  | 24/33 [03:03<01:20,  8.95s/it]"
     ]
    },
    {
     "name": "stdout",
     "output_type": "stream",
     "text": [
      "Time used: 4.146888999999987\n",
      "==========_1_==========\n",
      "{'var066', 'var047', 'var016', 'var020', 'var053'}\n",
      "==========_set_zero_fe_==========\n",
      "['var008', 'var013', 'var023', 'var025', 'var026', 'var032', 'var050']\n",
      "==========_set_zero_fe_2_==========\n",
      "['var049', 'var064']\n",
      "==========_set_zero_fe_3_==========\n",
      "['var009', 'var017', 'var039', 'var041', 'var044', 'var058', 'var063']\n",
      "==========_set_zero_fe_4_==========\n",
      "['var048']\n",
      "==========_set_zero_fe_5_==========\n",
      "['var054', 'var060']\n",
      "==========_set_zero_fe_6_==========\n",
      "[]\n",
      "==========_set_zero_fe_7_==========\n",
      "['var010', 'var019', 'var034', 'var043', 'var059', 'var065', 'var068']\n"
     ]
    },
    {
     "name": "stderr",
     "output_type": "stream",
     "text": [
      "\r",
      " 76%|███████▌  | 25/33 [03:12<01:12,  9.12s/it]"
     ]
    },
    {
     "name": "stdout",
     "output_type": "stream",
     "text": [
      "Time used: 3.9170740000000137\n",
      "==========_1_==========\n",
      "{'var066', 'var047', 'var016', 'var020', 'var053'}\n",
      "==========_set_zero_fe_==========\n",
      "['var008', 'var025', 'var026', 'var032', 'var050']\n",
      "==========_set_zero_fe_2_==========\n",
      "['var023']\n",
      "==========_set_zero_fe_3_==========\n",
      "['var009', 'var049', 'var064']\n",
      "==========_set_zero_fe_4_==========\n",
      "['var010', 'var013', 'var017', 'var039', 'var041', 'var058', 'var063']\n",
      "==========_set_zero_fe_5_==========\n",
      "['var044', 'var048', 'var054', 'var060']\n",
      "==========_set_zero_fe_6_==========\n",
      "[]\n",
      "==========_set_zero_fe_7_==========\n",
      "['var019', 'var043', 'var059', 'var065']\n"
     ]
    },
    {
     "name": "stderr",
     "output_type": "stream",
     "text": [
      "\r",
      " 79%|███████▉  | 26/33 [03:22<01:05,  9.31s/it]"
     ]
    },
    {
     "name": "stdout",
     "output_type": "stream",
     "text": [
      "Time used: 3.861190999999991\n",
      "==========_1_==========\n",
      "{'var066', 'var047', 'var016', 'var020', 'var053'}\n",
      "==========_set_zero_fe_==========\n",
      "['var008', 'var013', 'var023', 'var025', 'var026', 'var032']\n",
      "==========_set_zero_fe_2_==========\n",
      "['var044', 'var050', 'var063', 'var064']\n",
      "==========_set_zero_fe_3_==========\n",
      "['var049', 'var058']\n",
      "==========_set_zero_fe_4_==========\n",
      "['var009', 'var017', 'var041', 'var048']\n",
      "==========_set_zero_fe_5_==========\n",
      "['var060']\n",
      "==========_set_zero_fe_6_==========\n",
      "['var010', 'var039', 'var054']\n",
      "==========_set_zero_fe_7_==========\n",
      "['var019', 'var043', 'var059', 'var065']\n"
     ]
    },
    {
     "name": "stderr",
     "output_type": "stream",
     "text": [
      "\r",
      " 82%|████████▏ | 27/33 [03:31<00:55,  9.23s/it]"
     ]
    },
    {
     "name": "stdout",
     "output_type": "stream",
     "text": [
      "Time used: 4.365566999999999\n",
      "==========_1_==========\n",
      "{'var066', 'var047', 'var016', 'var020', 'var053'}\n",
      "==========_set_zero_fe_==========\n",
      "['var008', 'var010', 'var013', 'var025', 'var026', 'var032']\n",
      "==========_set_zero_fe_2_==========\n",
      "['var050']\n",
      "==========_set_zero_fe_3_==========\n",
      "['var009', 'var058', 'var063']\n",
      "==========_set_zero_fe_4_==========\n",
      "['var039', 'var044', 'var049', 'var064']\n",
      "==========_set_zero_fe_5_==========\n",
      "['var017', 'var041', 'var054', 'var060']\n",
      "==========_set_zero_fe_6_==========\n",
      "['var023', 'var048']\n",
      "==========_set_zero_fe_7_==========\n",
      "['var015', 'var019', 'var043', 'var059', 'var065']\n"
     ]
    },
    {
     "name": "stderr",
     "output_type": "stream",
     "text": [
      "\r",
      " 85%|████████▍ | 28/33 [03:41<00:46,  9.39s/it]"
     ]
    },
    {
     "name": "stdout",
     "output_type": "stream",
     "text": [
      "Time used: 3.8332340000000045\n",
      "==========_1_==========\n",
      "{'var066', 'var047', 'var016', 'var020', 'var053'}\n",
      "==========_set_zero_fe_==========\n",
      "['var008', 'var013', 'var025', 'var026', 'var032']\n",
      "==========_set_zero_fe_2_==========\n",
      "['var039', 'var049', 'var050']\n",
      "==========_set_zero_fe_3_==========\n",
      "['var063']\n",
      "==========_set_zero_fe_4_==========\n",
      "['var044', 'var048', 'var058']\n",
      "==========_set_zero_fe_5_==========\n",
      "['var009', 'var010', 'var017', 'var023', 'var041', 'var060']\n",
      "==========_set_zero_fe_6_==========\n",
      "['var054', 'var064']\n",
      "==========_set_zero_fe_7_==========\n",
      "['var019', 'var043', 'var059', 'var065']\n"
     ]
    },
    {
     "name": "stderr",
     "output_type": "stream",
     "text": [
      "\r",
      " 88%|████████▊ | 29/33 [03:51<00:37,  9.47s/it]"
     ]
    },
    {
     "name": "stdout",
     "output_type": "stream",
     "text": [
      "Time used: 3.4362409999999954\n",
      "==========_1_==========\n",
      "{'var066', 'var047', 'var016', 'var020', 'var053'}\n",
      "==========_set_zero_fe_==========\n",
      "['var008', 'var025', 'var026', 'var032', 'var039', 'var050']\n",
      "==========_set_zero_fe_2_==========\n",
      "['var017', 'var044']\n",
      "==========_set_zero_fe_3_==========\n",
      "['var009', 'var013', 'var048', 'var058']\n",
      "==========_set_zero_fe_4_==========\n",
      "['var041', 'var049', 'var064']\n",
      "==========_set_zero_fe_5_==========\n",
      "['var010', 'var054', 'var060']\n",
      "==========_set_zero_fe_6_==========\n",
      "['var063']\n",
      "==========_set_zero_fe_7_==========\n",
      "['var015', 'var019', 'var023', 'var043', 'var059', 'var065']\n"
     ]
    },
    {
     "name": "stderr",
     "output_type": "stream",
     "text": [
      "\r",
      " 91%|█████████ | 30/33 [04:00<00:28,  9.44s/it]"
     ]
    },
    {
     "name": "stdout",
     "output_type": "stream",
     "text": [
      "Time used: 3.7895699999999977\n",
      "==========_1_==========\n",
      "{'var066', 'var047', 'var016', 'var020', 'var053'}\n",
      "==========_set_zero_fe_==========\n",
      "['var008', 'var013', 'var025', 'var026', 'var032', 'var050']\n",
      "==========_set_zero_fe_2_==========\n",
      "['var064']\n",
      "==========_set_zero_fe_3_==========\n",
      "['var009', 'var039', 'var044', 'var049']\n",
      "==========_set_zero_fe_4_==========\n",
      "['var023', 'var041', 'var058']\n",
      "==========_set_zero_fe_5_==========\n",
      "['var017', 'var054', 'var060']\n",
      "==========_set_zero_fe_6_==========\n",
      "['var010', 'var063']\n",
      "==========_set_zero_fe_7_==========\n",
      "['var015', 'var019', 'var043', 'var048', 'var059', 'var065']\n"
     ]
    },
    {
     "name": "stderr",
     "output_type": "stream",
     "text": [
      "\r",
      " 94%|█████████▍| 31/33 [04:09<00:18,  9.38s/it]"
     ]
    },
    {
     "name": "stdout",
     "output_type": "stream",
     "text": [
      "Time used: 4.430219999999991\n",
      "==========_1_==========\n",
      "{'var066', 'var047', 'var016', 'var020', 'var053'}\n",
      "==========_set_zero_fe_==========\n",
      "['var008', 'var025', 'var026', 'var032']\n",
      "==========_set_zero_fe_2_==========\n",
      "['var039', 'var049', 'var050']\n",
      "==========_set_zero_fe_3_==========\n",
      "['var009', 'var013', 'var041', 'var048', 'var064']\n",
      "==========_set_zero_fe_4_==========\n",
      "['var023', 'var058', 'var063']\n",
      "==========_set_zero_fe_5_==========\n",
      "['var010', 'var017', 'var054', 'var060']\n",
      "==========_set_zero_fe_6_==========\n",
      "['var044']\n",
      "==========_set_zero_fe_7_==========\n",
      "['var015', 'var019', 'var043', 'var059', 'var065', 'var068']\n"
     ]
    },
    {
     "name": "stderr",
     "output_type": "stream",
     "text": [
      "\r",
      " 97%|█████████▋| 32/33 [04:24<00:11, 11.06s/it]"
     ]
    },
    {
     "name": "stdout",
     "output_type": "stream",
     "text": [
      "Time used: 3.601968999999997\n",
      "==========_1_==========\n",
      "{'var066', 'var047', 'var016', 'var020', 'var053'}\n",
      "==========_set_zero_fe_==========\n",
      "['var008', 'var025', 'var026', 'var032']\n",
      "==========_set_zero_fe_2_==========\n",
      "['var050', 'var064']\n",
      "==========_set_zero_fe_3_==========\n",
      "['var013', 'var039', 'var048', 'var063']\n",
      "==========_set_zero_fe_4_==========\n",
      "['var009', 'var041', 'var049', 'var058']\n",
      "==========_set_zero_fe_5_==========\n",
      "['var017', 'var023', 'var054', 'var060']\n",
      "==========_set_zero_fe_6_==========\n",
      "['var010', 'var044']\n",
      "==========_set_zero_fe_7_==========\n",
      "['var019', 'var043', 'var059', 'var065']\n"
     ]
    },
    {
     "name": "stderr",
     "output_type": "stream",
     "text": [
      "100%|██████████| 33/33 [04:33<00:00, 10.47s/it]\n"
     ]
    }
   ],
   "source": [
    "cat_fe = ['var016','var020','var047']\n",
    "bool_fe = ['var053','var066']\n",
    "df = pd.DataFrame()\n",
    "dict_cate = load_variavle('../data/dict_cate_mode_set_30W.pkl')\n",
    "dict_cate_2 = load_variavle('../data/dict_cate_mode_set_25W.pkl')\n",
    "dict_cate_3 = load_variavle('../data/dict_cate_mode_set_20W.pkl')\n",
    "dict_cate_4 = load_variavle('../data/dict_cate_mode_set_15W.pkl')\n",
    "dict_cate_5 = load_variavle('../data/dict_cate_mode_set_10W.pkl')\n",
    "dict_cate_6 = load_variavle('../data/dict_cate_mode_set_6W.pkl')\n",
    "dict_cate_7 = load_variavle('../data/dict_cate_mode_set_2W.pkl')\n",
    "\n",
    "me_fe = ['var001','var002','var003','var004','var005','var006','var007',\n",
    "         'var011','var012','var014','var015','var018','var021',\n",
    "         'var022','var024','var027','var028','var029','var030','var031','var033',\n",
    "         'var034','var035','var036','var038','var040','var042','var043',\n",
    "         'var045','var046','var051','var052','var056','var057','var061','var067',\n",
    "         'var068','var009','var017','var037','var048','var055','var062']\n",
    "\n",
    "std_fe = ['var002','var006','var007','var011','var012','var014','var018',\n",
    "          'var021','var022','var028','var029','var036','var037','var051','var055',\n",
    "          'var057','var062','var067','var068']\n",
    "\n",
    "for i in tqdm(range(1,34)):\n",
    "    data = get_data(i)\n",
    "    \n",
    "    set_zero_fe = dict_cate[i]\n",
    "    set_zero_fe_2 = dict_cate_2[i]\n",
    "    set_zero_fe_3 = dict_cate_3[i]\n",
    "    set_zero_fe_4 = dict_cate_4[i]\n",
    "    set_zero_fe_5 = dict_cate_5[i]\n",
    "    set_zero_fe_6 = dict_cate_6[i]\n",
    "    set_zero_fe_7 = dict_cate_7[i]\n",
    "#     set_near_fe = dict_cate_25[i]\n",
    "    fe = [ i for i in data.columns if 'var' in i ]\n",
    "    data.index = data.ts\n",
    "    print(\"=\"*10+'_1_'+\"=\"*10)\n",
    "    print(set(fe)-set(set_zero_fe_7)-set(me_fe)-set(set_zero_fe)-set(set_zero_fe_2)-set(set_zero_fe_3)-set(set_zero_fe_4)-set(set_zero_fe_5)-set(set_zero_fe_6))\n",
    "    print(\"=\"*10+'_set_zero_fe_'+\"=\"*10)\n",
    "    print(set_zero_fe)\n",
    "    print(\"=\"*10+'_set_zero_fe_2_'+\"=\"*10)\n",
    "    print(set_zero_fe_2)\n",
    "    print(\"=\"*10+'_set_zero_fe_3_'+\"=\"*10)\n",
    "    print(set_zero_fe_3)\n",
    "    print(\"=\"*10+'_set_zero_fe_4_'+\"=\"*10)\n",
    "    print(set_zero_fe_4)\n",
    "    print(\"=\"*10+'_set_zero_fe_5_'+\"=\"*10)\n",
    "    print(set_zero_fe_5)\n",
    "    print(\"=\"*10+'_set_zero_fe_6_'+\"=\"*10)\n",
    "    print(set_zero_fe_6)\n",
    "    print(\"=\"*10+'_set_zero_fe_7_'+\"=\"*10)\n",
    "    print(set_zero_fe_7)\n",
    "#     print(\"=\"*10+'_set_near_fe_'+\"=\"*10)\n",
    "#     print(set_near_fe)\n",
    "    for j in fe:\n",
    "        if j not in me_fe + cat_fe + bool_fe + set_zero_fe + set_zero_fe_2 + set_zero_fe_3 + set_zero_fe_4+ set_zero_fe_5+ set_zero_fe_6+ set_zero_fe_7:\n",
    "            \"\"\"填充数据\"\"\"\n",
    "            data[j] = data[j].interpolate(method='nearest')\n",
    "            \n",
    "        elif j in set_zero_fe:\n",
    "            data[j] = resample_fe_mode(data,j,i,Type = 'mode').values\n",
    "            data[j] = data[j].interpolate(method='nearest',\n",
    "                                limit_direction = 'both' ,limit = 3 )\n",
    "\n",
    "            data[j] = data[j].fillna(data[j].mode()[0])\n",
    "        elif j in  set_zero_fe_2 :\n",
    "            data[j] = resample_fe_mode(data,j,i,Type = 'mode').values\n",
    "            data[j] = data[j].interpolate(method='nearest',\n",
    "                                limit_direction = 'both' ,limit = 4 )\n",
    "\n",
    "            data[j] = data[j].fillna(data[j].mode()[0])\n",
    "            \n",
    "        elif j in  set_zero_fe_3 :\n",
    "            data[j] = resample_fe_mode(data,j,i,Type = 'mode').values\n",
    "            data[j] = data[j].interpolate(method='nearest',\n",
    "                                limit_direction = 'both' ,limit = 5 )\n",
    "\n",
    "            data[j] = data[j].fillna(data[j].mode()[0])\n",
    "            \n",
    "        elif j in set_zero_fe_4:\n",
    "            \n",
    "            data[j] = resample_fe_mode(data,j,i,Type = 'mode').values\n",
    "            data[j] = data[j].interpolate(method='nearest',\n",
    "                                limit_direction = 'both' ,limit = 6 )\n",
    "            data[j] = data[j].fillna(data[j].mode()[0])\n",
    "            \n",
    "            \n",
    "        elif j in set_zero_fe_5:\n",
    "            data[j] = resample_fe_mode(data,j,i,Type = 'mode').values\n",
    "            data[j] = data[j].interpolate(method='nearest',\n",
    "                                limit_direction = 'both' ,limit = 8 )\n",
    "            data[j] = data[j].fillna(data[j].mode()[0])\n",
    "            \n",
    "        elif j in set_zero_fe_6 + ['var019','var065','var059']:\n",
    "#             data[j] = resample_fe_mode_roll(data,j,i,Type = 'mode',w = 11 , mw = 5).values\n",
    "            data[j] = resample_fe_mode(data,j,i,Type = 'mode').values\n",
    "            data[j] = data[j].interpolate(method='nearest')\n",
    "            \n",
    "        elif j in set_zero_fe_7 : \n",
    "            data[j] = data[j].rolling(window = 10 , min_periods = 5, center=True,\n",
    "                                      closed = 'both').median()\n",
    "            data[j] = data[j].interpolate(method='nearest')\n",
    "            \n",
    "        elif j in  ['var046','var042','var068','var034','var004','var043','var056','var031']:\n",
    "            data[j] = data[j].rolling(window = 10 , min_periods = 5, center=True,\n",
    "                                      closed = 'both').median()\n",
    "#             data[j] = tranfer_fe(data,j,i).values\n",
    "            data[j] = data[j].interpolate(method='nearest')\n",
    "#         elif j in ['var027']:\n",
    "#             data[j] = data[j].rolling(window = 35 , min_periods = 17, center=True,\n",
    "#                           closed = 'both').mean()\n",
    "#             data[j] = data[j].interpolate(method='time',limit = 167 )\n",
    "#             data[j] = data[j].fillna(data[j].mode()[0])\n",
    "        elif j in ['var027']:\n",
    "            data[j] = data[j].rolling(window = 45 , min_periods = 30, center=True,\n",
    "                          closed = 'both').median()\n",
    "            data[j] = data[j].interpolate(method='nearest')\n",
    "            \n",
    "        elif j in me_fe:\n",
    "            data[j] = data[j].rolling(window = 10 , min_periods = 5, center=True,\n",
    "                                      closed = 'both').mean()\n",
    "            data[j] = data[j].interpolate(method='time')\n",
    "    \n",
    "#         elif j in cat_fe:\n",
    "#             data[j] = resample_fe_mode_1(data,j,i,Type = 'mode1').values\n",
    "#             data[j] = data[j].interpolate(method='nearest',\n",
    "#                                 limit_direction = 'both')\n",
    "#         elif j in ['var053']:\n",
    "#             data[j] = data[j].rolling(window = 10 , min_periods = 5, center=True,\n",
    "#                                       closed = 'both').mean()\n",
    "#             data[j] = list(map(lambda x:1 if x>0.2 else x,data[j]))\n",
    "#             data[j] = data[j].interpolate(method='nearest',\n",
    "#                                             limit_direction = 'both')\n",
    "#         elif j in bool_fe:\n",
    "#             data[j] = data[j].interpolate(method='nearest',\n",
    "#                                 limit_direction = 'both')\n",
    "\n",
    "\n",
    "    df = pd.concat([df,data],axis = 0)"
   ]
  },
  {
   "cell_type": "code",
   "execution_count": 14,
   "metadata": {},
   "outputs": [],
   "source": [
    "sub = df[df.flag==1].copy().reset_index(drop = True)\n",
    "del sub['flag']\n",
    "res = pd.read_csv('../data/template_submit_result.csv',parse_dates=[0])[['ts','wtid']]\n",
    "DF = res.merge(sub, on=['wtid','ts'],how = 'outer')"
   ]
  },
  {
   "cell_type": "code",
   "execution_count": 15,
   "metadata": {},
   "outputs": [],
   "source": [
    "# DF[cat_fe+bool_fe] = DF[cat_fe+bool_fe].astype(int)\n",
    "DF[cat_fe+bool_fe] = -1"
   ]
  },
  {
   "cell_type": "code",
   "execution_count": 16,
   "metadata": {},
   "outputs": [],
   "source": [
    "\"\"\"人为调整\"\"\"\n",
    "DF['var041'] = list(map(lambda x: 0 if abs(x)>=0.04 else x,DF['var041']))\n",
    "DF['var058'] = list(map(lambda x: -abs(x) if abs(x)>=0.06 else x,DF['var058']))\n",
    "DF['var058'] = list(map(lambda x: 0 if x >=0.03 else x,DF['var058']))"
   ]
  },
  {
   "cell_type": "code",
   "execution_count": 17,
   "metadata": {},
   "outputs": [],
   "source": [
    "DF.iloc[:,2:] = DF.iloc[:,2:].round(2)"
   ]
  },
  {
   "cell_type": "code",
   "execution_count": 27,
   "metadata": {},
   "outputs": [],
   "source": [
    "DF.to_csv('../submit/nn_v3.csv',index = False)"
   ]
  }
 ],
 "metadata": {
  "kernelspec": {
   "display_name": "Python 3",
   "language": "python",
   "name": "python3"
  },
  "language_info": {
   "codemirror_mode": {
    "name": "ipython",
    "version": 3
   },
   "file_extension": ".py",
   "mimetype": "text/x-python",
   "name": "python",
   "nbconvert_exporter": "python",
   "pygments_lexer": "ipython3",
   "version": "3.5.2"
  }
 },
 "nbformat": 4,
 "nbformat_minor": 2
}
